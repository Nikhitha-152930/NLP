{
 "cells": [
  {
   "cell_type": "markdown",
   "id": "e8d67d46",
   "metadata": {},
   "source": [
    "\n",
    "## NLP Sentiment Analysis using Python\n",
    "\n",
    "This notebook demonstrates how to implement a basic sentiment analysis pipeline using natural language processing (NLP) techniques and machine learning. We will use libraries such as NLTK, Scikit-learn, and Pandas.\n",
    "\n",
    "First, we will set up the environment by installing the necessary packages.\n"
   ]
  },
  {
   "cell_type": "code",
   "execution_count": null,
   "id": "12a44848",
   "metadata": {},
   "outputs": [],
   "source": [
    "\n",
    "!pip install nltk spacy gensim pandas scikit-learn\n"
   ]
  },
  {
   "cell_type": "code",
   "execution_count": null,
   "id": "3023f184",
   "metadata": {},
   "outputs": [],
   "source": [
    "\n",
    "# Import NLTK and download necessary data\n",
    "import nltk\n",
    "nltk.download('punkt')  # Download tokenizer data\n",
    "\n",
    "# Tokenizing a sample sentence into words\n",
    "from nltk.tokenize import word_tokenize\n",
    "\n",
    "# Sample sentence for demonstration\n",
    "sentence = \"Hello, world! This is NLP.\"\n",
    "tokens = word_tokenize(sentence)\n",
    "print(tokens)  # Output the tokenized words\n"
   ]
  },
  {
   "cell_type": "code",
   "execution_count": null,
   "id": "b6e3b1e9",
   "metadata": {},
   "outputs": [],
   "source": [
    "\n",
    "# Download and load the English stopwords\n",
    "from nltk.corpus import stopwords\n",
    "nltk.download('stopwords')\n",
    "stop_words = set(stopwords.words('english'))\n",
    "\n",
    "# Remove stopwords from the tokenized words\n",
    "filtered_tokens = [word for word in tokens if word.lower() not in stop_words]\n",
    "print(filtered_tokens)  # Output the words after removing stopwords\n"
   ]
  },
  {
   "cell_type": "code",
   "execution_count": null,
   "id": "cf3f3de4",
   "metadata": {},
   "outputs": [],
   "source": [
    "\n",
    "# Import stemming and lemmatization utilities from NLTK\n",
    "from nltk.stem import PorterStemmer, WordNetLemmatizer\n",
    "nltk.download('wordnet')  # Download wordnet data for lemmatization\n",
    "\n",
    "# Initialize the stemmer and lemmatizer\n",
    "ps = PorterStemmer()\n",
    "lemmatizer = WordNetLemmatizer()\n",
    "\n",
    "# Example of stemming and lemmatization\n",
    "print(ps.stem(\"faster\"))  # Output the stemmed version of 'faster'\n",
    "print(lemmatizer.lemmatize(\"faster\"))  # Output the lemmatized version of 'faster'\n"
   ]
  },
  {
   "cell_type": "code",
   "execution_count": null,
   "id": "06d3aec0",
   "metadata": {},
   "outputs": [],
   "source": [
    "\n",
    "# Load necessary libraries for sentiment analysis\n",
    "import pandas as pd\n",
    "from sklearn.model_selection import train_test_split\n",
    "from sklearn.feature_extraction.text import CountVectorizer\n",
    "from sklearn.naive_bayes import MultinomialNB\n",
    "from sklearn import metrics\n",
    "\n",
    "# Create a dataset with example movie reviews and their sentiment labels\n",
    "data = {\n",
    "    'text': [\n",
    "        'I love this movie!',\n",
    "        'This was a terrible movie.',\n",
    "        'I really enjoyed the film.',\n",
    "        'Worst experience ever.',\n",
    "        'It was fantastic!',\n",
    "        'Not worth the time.',\n",
    "        'Absolutely amazing!',\n",
    "        'It was okay, not great.',\n",
    "        'I hate this film.',\n",
    "        'Best movie ever!'\n",
    "    ],\n",
    "    'sentiment': [\n",
    "        'positive',\n",
    "        'negative',\n",
    "        'positive',\n",
    "        'negative',\n",
    "        'positive',\n",
    "        'negative',\n",
    "        'positive',\n",
    "        'neutral',\n",
    "        'negative',\n",
    "        'positive'\n",
    "    ]\n",
    "}\n",
    "\n",
    "# Convert the dataset into a DataFrame\n",
    "df = pd.DataFrame(data)\n",
    "print(df)  # Display the dataset\n"
   ]
  },
  {
   "cell_type": "code",
   "execution_count": null,
   "id": "d3a9bb8f",
   "metadata": {},
   "outputs": [],
   "source": [
    "\n",
    "# Split the data into training (80%) and testing (20%) sets\n",
    "X = df['text']\n",
    "y = df['sentiment']\n",
    "X_train, X_test, y_train, y_test = train_test_split(X, y, test_size=0.2, random_state=42)\n",
    "\n",
    "# Convert text data to numerical features using CountVectorizer\n",
    "vectorizer = CountVectorizer()\n",
    "X_train_vectorized = vectorizer.fit_transform(X_train)\n",
    "X_test_vectorized = vectorizer.transform(X_test)\n",
    "\n",
    "# Train a Multinomial Naive Bayes model using the training data\n",
    "model = MultinomialNB()\n",
    "model.fit(X_train_vectorized, y_train)\n"
   ]
  },
  {
   "cell_type": "code",
   "execution_count": null,
   "id": "4165fb24",
   "metadata": {},
   "outputs": [],
   "source": [
    "\n",
    "# Use the trained model to predict sentiment labels for the test data\n",
    "y_pred = model.predict(X_test_vectorized)\n",
    "\n",
    "# Calculate and display the accuracy of the model\n",
    "accuracy = metrics.accuracy_score(y_test, y_pred)\n",
    "print(f'Accuracy: {accuracy:.2f}')\n",
    "\n",
    "# Generate a confusion matrix to further assess the model's performance\n",
    "confusion_matrix = metrics.confusion_matrix(y_test, y_pred)\n",
    "print('Confusion Matrix:')\n",
    "print(confusion_matrix)\n"
   ]
  },
  {
   "cell_type": "code",
   "execution_count": null,
   "id": "ad93a992",
   "metadata": {},
   "outputs": [],
   "source": [
    "\n",
    "# Function to predict sentiment of a new text input\n",
    "def predict_sentiment(text):\n",
    "    text_vectorized = vectorizer.transform([text])\n",
    "    prediction = model.predict(text_vectorized)\n",
    "    return prediction[0]\n",
    "\n",
    "# Example: Predict sentiment of a new review\n",
    "new_text = \"I loved the plot and the acting!\"\n",
    "print(f'Sentiment: {predict_sentiment(new_text)}')\n"
   ]
  }
 ],
 "metadata": {},
 "nbformat": 4,
 "nbformat_minor": 5
}